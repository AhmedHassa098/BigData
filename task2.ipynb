{
 "cells": [
  {
   "cell_type": "code",
   "execution_count": 1,
   "id": "2552e245",
   "metadata": {},
   "outputs": [
    {
     "name": "stdout",
     "output_type": "stream",
     "text": [
      "Requirement already satisfied: pandas in c:\\users\\hp\\appdata\\local\\programs\\python\\python310\\lib\\site-packages (1.4.3)\n",
      "Requirement already satisfied: pytz>=2020.1 in c:\\users\\hp\\appdata\\local\\programs\\python\\python310\\lib\\site-packages (from pandas) (2021.3)\n",
      "Requirement already satisfied: numpy>=1.21.0 in c:\\users\\hp\\appdata\\local\\programs\\python\\python310\\lib\\site-packages (from pandas) (1.23.1)\n",
      "Requirement already satisfied: python-dateutil>=2.8.1 in c:\\users\\hp\\appdata\\local\\programs\\python\\python310\\lib\\site-packages (from pandas) (2.8.2)\n",
      "Requirement already satisfied: six>=1.5 in c:\\users\\hp\\appdata\\local\\programs\\python\\python310\\lib\\site-packages (from python-dateutil>=2.8.1->pandas) (1.16.0)\n"
     ]
    }
   ],
   "source": [
    "!pip install pandas"
   ]
  },
  {
   "cell_type": "code",
   "execution_count": 2,
   "id": "d706f14e",
   "metadata": {},
   "outputs": [
    {
     "name": "stdout",
     "output_type": "stream",
     "text": [
      "Requirement already satisfied: numpy in c:\\users\\hp\\appdata\\local\\programs\\python\\python310\\lib\\site-packages (1.23.1)\n"
     ]
    }
   ],
   "source": [
    "!pip install numpy\n",
    "  "
   ]
  },
  {
   "cell_type": "code",
   "execution_count": 3,
   "id": "9d500998",
   "metadata": {},
   "outputs": [],
   "source": [
    "from pyspark import SparkContext, SparkConf\n",
    "from pyspark.sql import SparkSession\n",
    " \n",
    "sc=SparkContext.getOrCreate()\n",
    "spark = SparkSession.builder.getOrCreate()\n",
    "ss = spark\n",
    "dfr = ss.read \n"
   ]
  },
  {
   "cell_type": "code",
   "execution_count": 4,
   "id": "15db955a",
   "metadata": {},
   "outputs": [],
   "source": [
    "df = dfr.csv(r\"C:\\Users\\Hp\\Downloads\\HRDataset_v14.csv\", header=True, inferSchema=True)"
   ]
  },
  {
   "cell_type": "code",
   "execution_count": 5,
   "id": "5f56e125",
   "metadata": {},
   "outputs": [
    {
     "data": {
      "text/plain": [
       "Row(Employee_Name='Adinolfi, Wilson  K', EmpID=10026, MarriedID=0, MaritalStatusID=0, GenderID=1, EmpStatusID=1, DeptID=5, PerfScoreID=4, FromDiversityJobFairID=0, Salary=62506, Termd=0, PositionID=19, Position='Production Technician I', State='MA', Zip=1960, DOB='07/10/83', Sex='M ', MaritalDesc='Single', CitizenDesc='US Citizen', HispanicLatino='No', RaceDesc='White', DateofHire='7/5/2011', DateofTermination=None, TermReason='N/A-StillEmployed', EmploymentStatus='Active', Department='Production       ', ManagerName='Michael Albert', ManagerID=22, RecruitmentSource='LinkedIn', PerformanceScore='Exceeds', EngagementSurvey=4.6, EmpSatisfaction=5, SpecialProjectsCount=0, LastPerformanceReview_Date='1/17/2019', DaysLateLast30=0, Absences=1)"
      ]
     },
     "execution_count": 5,
     "metadata": {},
     "output_type": "execute_result"
    }
   ],
   "source": [
    "df.head()"
   ]
  },
  {
   "cell_type": "code",
   "execution_count": 9,
   "id": "b5d776d6",
   "metadata": {},
   "outputs": [
    {
     "data": {
      "text/plain": [
       "['Employee_Name',\n",
       " 'EmpID',\n",
       " 'MarriedID',\n",
       " 'MaritalStatusID',\n",
       " 'GenderID',\n",
       " 'EmpStatusID',\n",
       " 'DeptID',\n",
       " 'PerfScoreID',\n",
       " 'FromDiversityJobFairID',\n",
       " 'Salary',\n",
       " 'Termd',\n",
       " 'PositionID',\n",
       " 'Position',\n",
       " 'State',\n",
       " 'Zip',\n",
       " 'DOB',\n",
       " 'Sex',\n",
       " 'MaritalDesc',\n",
       " 'CitizenDesc',\n",
       " 'HispanicLatino',\n",
       " 'RaceDesc',\n",
       " 'DateofHire',\n",
       " 'DateofTermination',\n",
       " 'TermReason',\n",
       " 'EmploymentStatus',\n",
       " 'Department',\n",
       " 'ManagerName',\n",
       " 'ManagerID',\n",
       " 'RecruitmentSource',\n",
       " 'PerformanceScore',\n",
       " 'EngagementSurvey',\n",
       " 'EmpSatisfaction',\n",
       " 'SpecialProjectsCount',\n",
       " 'LastPerformanceReview_Date',\n",
       " 'DaysLateLast30',\n",
       " 'Absences']"
      ]
     },
     "execution_count": 9,
     "metadata": {},
     "output_type": "execute_result"
    }
   ],
   "source": [
    "df.columns"
   ]
  },
  {
   "cell_type": "code",
   "execution_count": 7,
   "id": "c96329bd",
   "metadata": {},
   "outputs": [
    {
     "data": {
      "text/plain": [
       "311"
      ]
     },
     "execution_count": 7,
     "metadata": {},
     "output_type": "execute_result"
    }
   ],
   "source": [
    "df.count()"
   ]
  },
  {
   "cell_type": "code",
   "execution_count": 8,
   "id": "91e380a4",
   "metadata": {},
   "outputs": [
    {
     "name": "stdout",
     "output_type": "stream",
     "text": [
      "['Employee_Name', 'EmpID', 'MarriedID', 'MaritalStatusID', 'GenderID', 'EmpStatusID', 'DeptID', 'PerfScoreID', 'FromDiversityJobFairID', 'Salary', 'Termd', 'PositionID', 'Position', 'State', 'Zip', 'DOB', 'Sex', 'MaritalDesc', 'CitizenDesc', 'HispanicLatino', 'RaceDesc', 'DateofHire', 'DateofTermination', 'TermReason', 'EmploymentStatus', 'Department', 'ManagerName', 'ManagerID', 'RecruitmentSource', 'PerformanceScore', 'EngagementSurvey', 'EmpSatisfaction', 'SpecialProjectsCount', 'LastPerformanceReview_Date']\n"
     ]
    }
   ],
   "source": [
    "column_drop = ['DaysLateLast30', 'Absences']\n",
    "df = df.drop(*column_drop)\n",
    "print(df.columns)"
   ]
  },
  {
   "cell_type": "code",
   "execution_count": 9,
   "id": "2d1f3a87",
   "metadata": {},
   "outputs": [
    {
     "data": {
      "text/plain": [
       "DataFrame[Employee_Name: string, EmpID: int, MarriedID: int, MaritalStatusID: int, GenderID: int, EmpStatusID: int, DeptID: int, PerfScoreID: int, FromDiversityJobFairID: int, Salary: int, Termd: int, PositionID: int, Position: string, State: string, Zip: int, DOB: string, Sex: string, MaritalDesc: string, CitizenDesc: string, HispanicLatino: string, RaceDesc: string, DateofHire: string, DateofTermination: string, TermReason: string, EmploymentStatus: string, Department: string, ManagerName: string, ManagerID: int, RecruitmentSource: string, PerformanceScore: string, EngagementSurvey: double, EmpSatisfaction: int, SpecialProjectsCount: int, LastPerformanceReview_Date: string]"
      ]
     },
     "execution_count": 9,
     "metadata": {},
     "output_type": "execute_result"
    }
   ],
   "source": [
    "df.cache()"
   ]
  },
  {
   "cell_type": "code",
   "execution_count": 17,
   "id": "cc48293c",
   "metadata": {},
   "outputs": [
    {
     "name": "stdout",
     "output_type": "stream",
     "text": [
      "+--------------------+--------------------+\n",
      "|       Employee_Name|            Position|\n",
      "+--------------------+--------------------+\n",
      "| Adinolfi, Wilson  K|Production Techni...|\n",
      "|Ait Sidi, Karthik...|             Sr. DBA|\n",
      "|   Akinkuolie, Sarah|Production Techni...|\n",
      "|        Alagbe,Trina|Production Techni...|\n",
      "|    Anderson, Carol |Production Techni...|\n",
      "+--------------------+--------------------+\n",
      "only showing top 5 rows\n",
      "\n"
     ]
    }
   ],
   "source": [
    "#Mix sql and data frame queries for DataFrame\n",
    "df.select(\"Employee_Name\",\"Position\").show(5)\n",
    "\n"
   ]
  },
  {
   "cell_type": "code",
   "execution_count": 11,
   "id": "f0c48244",
   "metadata": {},
   "outputs": [
    {
     "data": {
      "text/plain": [
       "311"
      ]
     },
     "execution_count": 11,
     "metadata": {},
     "output_type": "execute_result"
    }
   ],
   "source": [
    "df.count()"
   ]
  },
  {
   "cell_type": "code",
   "execution_count": 15,
   "id": "54d60aaf",
   "metadata": {},
   "outputs": [
    {
     "data": {
      "text/plain": [
       "<function __main__.Square_Power(i)>"
      ]
     },
     "execution_count": 15,
     "metadata": {},
     "output_type": "execute_result"
    }
   ],
   "source": [
    "def Square_Power(i):\n",
    "  return i * i\n",
    "spark.udf.register(\"Square\", Square_Power)"
   ]
  },
  {
   "cell_type": "code",
   "execution_count": 16,
   "id": "2a505151",
   "metadata": {},
   "outputs": [
    {
     "data": {
      "text/plain": [
       "25"
      ]
     },
     "execution_count": 16,
     "metadata": {},
     "output_type": "execute_result"
    }
   ],
   "source": [
    "Square_Power(5)"
   ]
  },
  {
   "cell_type": "code",
   "execution_count": 18,
   "id": "0b121dc5",
   "metadata": {},
   "outputs": [],
   "source": [
    "import pandas as pd\n",
    "df1 = pd.DataFrame(\n",
    "    {\n",
    "        \"Fruits\": [\"Apple\", \"bannana\", \"mango\", \"Grapes\"],\n",
    "        \"Car\": [\"lambo\", \"Honda\", \"suzuki\", \"Toyota\"],\n",
    "        \"Block\": [\"C0\", \"C1\", \"C2\", \"C3\"],\n",
    "        \"Door\": [\"D0\", \"D1\", \"D2\", \"D3\"],\n",
    "    },\n",
    "    index=[0, 1, 2, 3],\n",
    ")\n",
    "\n",
    "\n",
    "df2 = pd.DataFrame(\n",
    "    {\n",
    "        \"Fruits\": [\"orange\", \"lichi\", \"fruiter\", \"water mellon\"],\n",
    "        \"Car\": [\"bmw\", \"range\", \"I8\", \"F1\"],\n",
    "        \"Block\": [\"C4\", \"C5\", \"C6\", \"C7\"],\n",
    "        \"Door\": [\"D4\", \"D5\", \"D6\", \"D7\"],\n",
    "    },\n",
    "    index=[4, 5, 6, 7],\n",
    ")\n",
    "\n",
    "\n",
    "\n",
    "\n",
    "frames = [df1, df2]\n",
    "\n",
    "result = pd.concat(frames)"
   ]
  },
  {
   "cell_type": "code",
   "execution_count": 47,
   "id": "ab1d83d7",
   "metadata": {},
   "outputs": [
    {
     "name": "stdout",
     "output_type": "stream",
     "text": [
      "         Fruits     Car Block Door\n",
      "0         Apple   lambo    C0   D0\n",
      "1       bannana   Honda    C1   D1\n",
      "2         mango  suzuki    C2   D2\n",
      "3        Grapes  Toyota    C3   D3\n",
      "4        orange     bmw    C4   D4\n",
      "5         lichi   range    C5   D5\n",
      "6       fruiter      I8    C6   D6\n",
      "7  water mellon      F1    C7   D7\n"
     ]
    }
   ],
   "source": [
    "print(result)"
   ]
  },
  {
   "cell_type": "code",
   "execution_count": null,
   "id": "80f5a29d",
   "metadata": {},
   "outputs": [],
   "source": [
    "df1 = spark.read.format(\"csv\").option(\"header\", \"true\").load(\n",
    "    \"dbfs:/FileStore/shared_uploads/ahmedhassan0057@gmail.com/HRDataset_v14-6.csv\")\n",
    "display(df1)\n",
    "#We use  Scatter plot to visualize our data for 2 variable empid and salary\n"
   ]
  }
 ],
 "metadata": {
  "kernelspec": {
   "display_name": "Python 3 (ipykernel)",
   "language": "python",
   "name": "python3"
  },
  "language_info": {
   "codemirror_mode": {
    "name": "ipython",
    "version": 3
   },
   "file_extension": ".py",
   "mimetype": "text/x-python",
   "name": "python",
   "nbconvert_exporter": "python",
   "pygments_lexer": "ipython3",
   "version": "3.10.5"
  },
  "vscode": {
   "interpreter": {
    "hash": "027efd7095115064582efab50921964d678032cf36f1ec215c675cf4ffc5e6b9"
   }
  }
 },
 "nbformat": 4,
 "nbformat_minor": 5
}
